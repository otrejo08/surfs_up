{
 "cells": [
  {
   "cell_type": "code",
   "execution_count": 35,
   "metadata": {},
   "outputs": [],
   "source": [
    "%matplotlib inline\n",
    "from matplotlib import style\n",
    "style.use('fivethirtyeight')\n",
    "import matplotlib.pyplot as plt"
   ]
  },
  {
   "cell_type": "code",
   "execution_count": 36,
   "metadata": {},
   "outputs": [],
   "source": [
    "import numpy as np\n",
    "import pandas as pd"
   ]
  },
  {
   "cell_type": "code",
   "execution_count": 37,
   "metadata": {},
   "outputs": [],
   "source": [
    "import datetime as dt\n",
    "import seaborn"
   ]
  },
  {
   "cell_type": "markdown",
   "metadata": {},
   "source": [
    "# Reflect Tables into SQLAlchemy ORM"
   ]
  },
  {
   "cell_type": "code",
   "execution_count": 49,
   "metadata": {},
   "outputs": [],
   "source": [
    "# Python SQL toolkit and Object Relational Mapper\n",
    "import sqlalchemy\n",
    "from sqlalchemy.ext.automap import automap_base\n",
    "from sqlalchemy.orm import Session\n",
    "from sqlalchemy import create_engine, func\n",
    "from datetime import datetime"
   ]
  },
  {
   "cell_type": "code",
   "execution_count": 50,
   "metadata": {},
   "outputs": [],
   "source": [
    "engine = create_engine(\"sqlite:///Resources/hawaii.sqlite\")"
   ]
  },
  {
   "cell_type": "code",
   "execution_count": 51,
   "metadata": {},
   "outputs": [],
   "source": [
    "# reflect an existing database into a new model\n",
    "Base = automap_base()\n",
    "# reflect the tables\n",
    "Base.prepare(engine, reflect=True)"
   ]
  },
  {
   "cell_type": "code",
   "execution_count": 52,
   "metadata": {},
   "outputs": [
    {
     "data": {
      "text/plain": [
       "['measurement', 'station']"
      ]
     },
     "execution_count": 52,
     "metadata": {},
     "output_type": "execute_result"
    }
   ],
   "source": [
    "# We can view all of the classes that automap found\n",
    "Base.classes.keys()"
   ]
  },
  {
   "cell_type": "code",
   "execution_count": 53,
   "metadata": {},
   "outputs": [],
   "source": [
    "# Save references to each table\n",
    "Measurements = Base.classes.measurement\n",
    "Stations = Base.classes.station"
   ]
  },
  {
   "cell_type": "code",
   "execution_count": 54,
   "metadata": {},
   "outputs": [],
   "source": [
    "# Create our session (link) from Python to the DB\n",
    "session = Session(engine)"
   ]
  },
  {
   "cell_type": "markdown",
   "metadata": {},
   "source": [
    "# Exploratory Climate Analysis"
   ]
  },
  {
   "cell_type": "code",
   "execution_count": 60,
   "metadata": {},
   "outputs": [
    {
     "data": {
      "text/plain": [
       "{'_sa_instance_state': <sqlalchemy.orm.state.InstanceState at 0x11d585780>,\n",
       " 'tobs': 65.0,\n",
       " 'date': '2010-01-01',\n",
       " 'id': 1,\n",
       " 'prcp': 0.08,\n",
       " 'station': 'USC00519397'}"
      ]
     },
     "execution_count": 60,
     "metadata": {},
     "output_type": "execute_result"
    }
   ],
   "source": [
    "#inspect measurement table\n",
    "precip_data = session.query(Measurements).first()\n",
    "precip_data.__dict__\n"
   ]
  },
  {
   "cell_type": "code",
   "execution_count": 61,
   "metadata": {},
   "outputs": [
    {
     "data": {
      "text/plain": [
       "{'_sa_instance_state': <sqlalchemy.orm.state.InstanceState at 0x11d59b630>,\n",
       " 'elevation': 3.0,\n",
       " 'latitude': 21.2716,\n",
       " 'station': 'USC00519397',\n",
       " 'longitude': -157.8168,\n",
       " 'name': 'WAIKIKI 717.2, HI US',\n",
       " 'id': 1}"
      ]
     },
     "execution_count": 61,
     "metadata": {},
     "output_type": "execute_result"
    }
   ],
   "source": [
    "#inspect station table\n",
    "first_station = session.query(Stations).first()\n",
    "first_station.__dict__"
   ]
  },
  {
   "cell_type": "code",
   "execution_count": 64,
   "metadata": {},
   "outputs": [
    {
     "data": {
      "text/plain": [
       "'2016-08-23'"
      ]
     },
     "execution_count": 64,
     "metadata": {},
     "output_type": "execute_result"
    }
   ],
   "source": [
    "#Design a query to retrieve the last 12 months of precipitation data\n",
    "latest_date = session.query(Measurement.date).order_by(Measurement.date.desc()).first()\n",
    "\n",
    "latest_date[0]\n",
    "\n",
    "latest_list = latest_date[0].split(\"-\")\n",
    "latest_list[0] = str(int(latest_list[0]) - 1)\n",
    "year_prior = \"-\".join(latest_list)\n",
    "year_prior"
   ]
  },
  {
   "cell_type": "code",
   "execution_count": 65,
   "metadata": {},
   "outputs": [
    {
     "data": {
      "text/plain": [
       "<sqlalchemy.orm.query.Query at 0x11d5a27f0>"
      ]
     },
     "execution_count": 65,
     "metadata": {},
     "output_type": "execute_result"
    }
   ],
   "source": [
    "last_12 = session.query(Measurement.date, Measurement.prcp).filter(Measurement.date > year_prior)\n",
    "last_12"
   ]
  },
  {
   "cell_type": "code",
   "execution_count": 68,
   "metadata": {},
   "outputs": [
    {
     "data": {
      "image/png": "[encoded data removed]",
      "text/plain": [
       "<Figure size 432x288 with 1 Axes>"
      ]
     },
     "metadata": {},
     "output_type": "display_data"
    },
    {
     "data": {
      "text/html": [
       "<div>\n",
       "<style scoped>\n",
       "    .dataframe tbody tr th:only-of-type {\n",
       "        vertical-align: middle;\n",
       "    }\n",
       "\n",
       "    .dataframe tbody tr th {\n",
       "        vertical-align: top;\n",
       "    }\n",
       "\n",
       "    .dataframe thead th {\n",
       "        text-align: right;\n",
       "    }\n",
       "</style>\n",
       "<table border=\"1\" class=\"dataframe\">\n",
       "  <thead>\n",
       "    <tr style=\"text-align: right;\">\n",
       "      <th></th>\n",
       "      <th>prcp</th>\n",
       "    </tr>\n",
       "  </thead>\n",
       "  <tbody>\n",
       "    <tr>\n",
       "      <th>count</th>\n",
       "      <td>2015.000000</td>\n",
       "    </tr>\n",
       "    <tr>\n",
       "      <th>mean</th>\n",
       "      <td>0.176462</td>\n",
       "    </tr>\n",
       "    <tr>\n",
       "      <th>std</th>\n",
       "      <td>0.460288</td>\n",
       "    </tr>\n",
       "    <tr>\n",
       "      <th>min</th>\n",
       "      <td>0.000000</td>\n",
       "    </tr>\n",
       "    <tr>\n",
       "      <th>25%</th>\n",
       "      <td>0.000000</td>\n",
       "    </tr>\n",
       "    <tr>\n",
       "      <th>50%</th>\n",
       "      <td>0.020000</td>\n",
       "    </tr>\n",
       "    <tr>\n",
       "      <th>75%</th>\n",
       "      <td>0.130000</td>\n",
       "    </tr>\n",
       "    <tr>\n",
       "      <th>max</th>\n",
       "      <td>6.700000</td>\n",
       "    </tr>\n",
       "  </tbody>\n",
       "</table>\n",
       "</div>"
      ],
      "text/plain": [
       "              prcp\n",
       "count  2015.000000\n",
       "mean      0.176462\n",
       "std       0.460288\n",
       "min       0.000000\n",
       "25%       0.000000\n",
       "50%       0.020000\n",
       "75%       0.130000\n",
       "max       6.700000"
      ]
     },
     "execution_count": 68,
     "metadata": {},
     "output_type": "execute_result"
    }
   ],
   "source": [
    "last_12_df = pd.read_sql_query(last_12.statement, engine, index_col=\"date\")\n",
    "last_12_df.head()\n",
    "\n",
    "# Configure plot and ticks\n",
    "last_12_df.plot(rot=45)\n",
    "plt.show()\n",
    "\n",
    "\n",
    "last_12_df.describe()"
   ]
  },
  {
   "cell_type": "code",
   "execution_count": 71,
   "metadata": {},
   "outputs": [
    {
     "data": {
      "text/plain": [
       "9"
      ]
     },
     "execution_count": 71,
     "metadata": {},
     "output_type": "execute_result"
    }
   ],
   "source": [
    "# Design a query to show how many stations are available in this dataset?\n",
    "num_stations = session.query(Stations.station).count()\n",
    "num_stations\n",
    "\n",
    "#latest_date = session.query(Measurement.date).order_by(Measurement.date.desc()).first()"
   ]
  },
  {
   "cell_type": "code",
   "execution_count": 72,
   "metadata": {},
   "outputs": [
    {
     "data": {
      "text/plain": [
       "[('USC00519281', 2772),\n",
       " ('USC00519397', 2724),\n",
       " ('USC00513117', 2709),\n",
       " ('USC00519523', 2669),\n",
       " ('USC00516128', 2612),\n",
       " ('USC00514830', 2202),\n",
       " ('USC00511918', 1979),\n",
       " ('USC00517948', 1372),\n",
       " ('USC00518838', 511)]"
      ]
     },
     "execution_count": 72,
     "metadata": {},
     "output_type": "execute_result"
    }
   ],
   "source": [
    "# What are the most active stations? (i.e. what stations have the most rows)?\n",
    "# List the stations and the counts in descending order.\n",
    "\n",
    "active_stations = session.query(Measurement.station, func.count(Measurement.station)).group_by(Measurement.station).order_by(func.count(Measurement.station).desc()).all()\n",
    "active_stations\n"
   ]
  },
  {
   "cell_type": "code",
   "execution_count": 74,
   "metadata": {},
   "outputs": [
    {
     "data": {
      "text/plain": [
       "'USC00519281'"
      ]
     },
     "execution_count": 74,
     "metadata": {},
     "output_type": "execute_result"
    }
   ],
   "source": [
    "most_active = active_stations[0][0]\n",
    "most_active"
   ]
  },
  {
   "cell_type": "code",
   "execution_count": 78,
   "metadata": {},
   "outputs": [
    {
     "data": {
      "text/plain": [
       "[(77.0),\n",
       " (80.0),\n",
       " (80.0),\n",
       " (75.0),\n",
       " (73.0),\n",
       " (78.0),\n",
       " (77.0),\n",
       " (78.0),\n",
       " (80.0),\n",
       " (80.0),\n",
       " (78.0),\n",
       " (78.0),\n",
       " (78.0),\n",
       " (73.0),\n",
       " (74.0),\n",
       " (80.0),\n",
       " (79.0),\n",
       " (77.0),\n",
       " (80.0),\n",
       " (76.0),\n",
       " (79.0),\n",
       " (75.0),\n",
       " (79.0),\n",
       " (78.0),\n",
       " (79.0),\n",
       " (78.0),\n",
       " (78.0),\n",
       " (76.0),\n",
       " (74.0),\n",
       " (77.0),\n",
       " (78.0),\n",
       " (79.0),\n",
       " (79.0),\n",
       " (77.0),\n",
       " (80.0),\n",
       " (78.0),\n",
       " (78.0),\n",
       " (78.0),\n",
       " (77.0),\n",
       " (79.0),\n",
       " (79.0),\n",
       " (79.0),\n",
       " (79.0),\n",
       " (75.0),\n",
       " (76.0),\n",
       " (73.0),\n",
       " (72.0),\n",
       " (71.0),\n",
       " (77.0),\n",
       " (79.0),\n",
       " (78.0),\n",
       " (79.0),\n",
       " (77.0),\n",
       " (79.0),\n",
       " (77.0),\n",
       " (78.0),\n",
       " (78.0),\n",
       " (78.0),\n",
       " (78.0),\n",
       " (77.0),\n",
       " (74.0),\n",
       " (75.0),\n",
       " (76.0),\n",
       " (73.0),\n",
       " (76.0),\n",
       " (74.0),\n",
       " (77.0),\n",
       " (76.0),\n",
       " (76.0),\n",
       " (74.0),\n",
       " (75.0),\n",
       " (75.0),\n",
       " (75.0),\n",
       " (75.0),\n",
       " (71.0),\n",
       " (63.0),\n",
       " (70.0),\n",
       " (68.0),\n",
       " (67.0),\n",
       " (77.0),\n",
       " (74.0),\n",
       " (77.0),\n",
       " (76.0),\n",
       " (76.0),\n",
       " (75.0),\n",
       " (76.0),\n",
       " (75.0),\n",
       " (73.0),\n",
       " (75.0),\n",
       " (73.0),\n",
       " (75.0),\n",
       " (74.0),\n",
       " (75.0),\n",
       " (74.0),\n",
       " (75.0),\n",
       " (73.0),\n",
       " (75.0),\n",
       " (73.0),\n",
       " (73.0),\n",
       " (74.0),\n",
       " (70.0),\n",
       " (72.0),\n",
       " (70.0),\n",
       " (67.0),\n",
       " (67.0),\n",
       " (69.0),\n",
       " (70.0),\n",
       " (68.0),\n",
       " (69.0),\n",
       " (69.0),\n",
       " (66.0),\n",
       " (65.0),\n",
       " (68.0),\n",
       " (62.0),\n",
       " (75.0),\n",
       " (70.0),\n",
       " (69.0),\n",
       " (76.0),\n",
       " (76.0),\n",
       " (74.0),\n",
       " (73.0),\n",
       " (71.0),\n",
       " (74.0),\n",
       " (74.0),\n",
       " (72.0),\n",
       " (71.0),\n",
       " (72.0),\n",
       " (74.0),\n",
       " (69.0),\n",
       " (67.0),\n",
       " (72.0),\n",
       " (70.0),\n",
       " (64.0),\n",
       " (63.0),\n",
       " (63.0),\n",
       " (62.0),\n",
       " (70.0),\n",
       " (70.0),\n",
       " (62.0),\n",
       " (62.0),\n",
       " (63.0),\n",
       " (65.0),\n",
       " (69.0),\n",
       " (77.0),\n",
       " (70.0),\n",
       " (74.0),\n",
       " (69.0),\n",
       " (72.0),\n",
       " (71.0),\n",
       " (69.0),\n",
       " (71.0),\n",
       " (71.0),\n",
       " (72.0),\n",
       " (72.0),\n",
       " (69.0),\n",
       " (70.0),\n",
       " (66.0),\n",
       " (65.0),\n",
       " (69.0),\n",
       " (68.0),\n",
       " (68.0),\n",
       " (68.0),\n",
       " (59.0),\n",
       " (60.0),\n",
       " (70.0),\n",
       " (73.0),\n",
       " (75.0),\n",
       " (64.0),\n",
       " (59.0),\n",
       " (59.0),\n",
       " (62.0),\n",
       " (68.0),\n",
       " (70.0),\n",
       " (73.0),\n",
       " (79.0),\n",
       " (75.0),\n",
       " (65.0),\n",
       " (70.0),\n",
       " (74.0),\n",
       " (70.0),\n",
       " (70.0),\n",
       " (71.0),\n",
       " (71.0),\n",
       " (71.0),\n",
       " (69.0),\n",
       " (61.0),\n",
       " (67.0),\n",
       " (65.0),\n",
       " (72.0),\n",
       " (71.0),\n",
       " (73.0),\n",
       " (72.0),\n",
       " (77.0),\n",
       " (73.0),\n",
       " (67.0),\n",
       " (62.0),\n",
       " (64.0),\n",
       " (67.0),\n",
       " (66.0),\n",
       " (81.0),\n",
       " (69.0),\n",
       " (66.0),\n",
       " (67.0),\n",
       " (69.0),\n",
       " (66.0),\n",
       " (68.0),\n",
       " (65.0),\n",
       " (74.0),\n",
       " (69.0),\n",
       " (72.0),\n",
       " (73.0),\n",
       " (72.0),\n",
       " (71.0),\n",
       " (76.0),\n",
       " (77.0),\n",
       " (76.0),\n",
       " (74.0),\n",
       " (68.0),\n",
       " (73.0),\n",
       " (71.0),\n",
       " (74.0),\n",
       " (75.0),\n",
       " (70.0),\n",
       " (67.0),\n",
       " (71.0),\n",
       " (67.0),\n",
       " (74.0),\n",
       " (77.0),\n",
       " (78.0),\n",
       " (67.0),\n",
       " (70.0),\n",
       " (69.0),\n",
       " (69.0),\n",
       " (74.0),\n",
       " (78.0),\n",
       " (71.0),\n",
       " (67.0),\n",
       " (68.0),\n",
       " (67.0),\n",
       " (76.0),\n",
       " (69.0),\n",
       " (72.0),\n",
       " (76.0),\n",
       " (68.0),\n",
       " (72.0),\n",
       " (74.0),\n",
       " (70.0),\n",
       " (67.0),\n",
       " (72.0),\n",
       " (60.0),\n",
       " (65.0),\n",
       " (75.0),\n",
       " (70.0),\n",
       " (75.0),\n",
       " (70.0),\n",
       " (79.0),\n",
       " (75.0),\n",
       " (70.0),\n",
       " (67.0),\n",
       " (74.0),\n",
       " (70.0),\n",
       " (75.0),\n",
       " (76.0),\n",
       " (77.0),\n",
       " (74.0),\n",
       " (74.0),\n",
       " (74.0),\n",
       " (69.0),\n",
       " (68.0),\n",
       " (76.0),\n",
       " (74.0),\n",
       " (71.0),\n",
       " (71.0),\n",
       " (74.0),\n",
       " (74.0),\n",
       " (74.0),\n",
       " (74.0),\n",
       " (80.0),\n",
       " (74.0),\n",
       " (72.0),\n",
       " (75.0),\n",
       " (80.0),\n",
       " (76.0),\n",
       " (76.0),\n",
       " (77.0),\n",
       " (75.0),\n",
       " (75.0),\n",
       " (75.0),\n",
       " (75.0),\n",
       " (72.0),\n",
       " (74.0),\n",
       " (74.0),\n",
       " (74.0),\n",
       " (76.0),\n",
       " (74.0),\n",
       " (75.0),\n",
       " (73.0),\n",
       " (79.0),\n",
       " (75.0),\n",
       " (72.0),\n",
       " (72.0),\n",
       " (74.0),\n",
       " (72.0),\n",
       " (72.0),\n",
       " (77.0),\n",
       " (71.0),\n",
       " (73.0),\n",
       " (76.0),\n",
       " (77.0),\n",
       " (76.0),\n",
       " (76.0),\n",
       " (79.0),\n",
       " (81.0),\n",
       " (76.0),\n",
       " (78.0),\n",
       " (77.0),\n",
       " (74.0),\n",
       " (75.0),\n",
       " (78.0),\n",
       " (78.0),\n",
       " (69.0),\n",
       " (72.0),\n",
       " (74.0),\n",
       " (74.0),\n",
       " (76.0),\n",
       " (80.0),\n",
       " (80.0),\n",
       " (76.0),\n",
       " (76.0),\n",
       " (76.0),\n",
       " (77.0),\n",
       " (77.0),\n",
       " (77.0),\n",
       " (82.0),\n",
       " (75.0),\n",
       " (77.0),\n",
       " (75.0),\n",
       " (76.0),\n",
       " (81.0),\n",
       " (82.0),\n",
       " (81.0),\n",
       " (76.0),\n",
       " (77.0),\n",
       " (82.0),\n",
       " (83.0),\n",
       " (77.0),\n",
       " (77.0),\n",
       " (77.0),\n",
       " (76.0),\n",
       " (76.0),\n",
       " (79.0)]"
      ]
     },
     "execution_count": 78,
     "metadata": {},
     "output_type": "execute_result"
    }
   ],
   "source": [
    "# Using the station id from the previous query, calculate the lowest temperature recorded, \n",
    "# highest temperature recorded, and average temperature most active station?\n",
    "\n",
    "\n",
    "most_active_temps = session.query(Measurement.tobs).filter(Measurement.date > year_prior, Measurement.station == most_active).all()\n",
    "most_active_temps\n"
   ]
  },
  {
   "cell_type": "code",
   "execution_count": 80,
   "metadata": {},
   "outputs": [
    {
     "data": {
      "text/plain": [
       "(array([ 5.,  7.,  7., 12., 27., 41., 40., 57., 66., 52., 29.,  8.]),\n",
       " array([59., 61., 63., 65., 67., 69., 71., 73., 75., 77., 79., 81., 83.]),\n",
       " <a list of 12 Patch objects>)"
      ]
     },
     "execution_count": 80,
     "metadata": {},
     "output_type": "execute_result"
    },
    {
     "data": {
      "image/png": "[encoded data removed]",
      "text/plain": [
       "<Figure size 432x288 with 1 Axes>"
      ]
     },
     "metadata": {},
     "output_type": "display_data"
    }
   ],
   "source": [
    "# Choose the station with the highest number of temperature observations.\n",
    "# Query the last 12 months of temperature observation data for this station and plot the results as a histogram\n",
    "most_active_temps[1][0]\n",
    "\n",
    "active_temps = [x[0] for x in most_active_temps]\n",
    "active_temps\n",
    "active_temps = [x for (x), in most_active_temps]\n",
    "active_temps\n",
    "\n",
    "plt.hist(active_temps, bins=12)"
   ]
  },
  {
   "cell_type": "code",
   "execution_count": 83,
   "metadata": {},
   "outputs": [],
   "source": [
    "# write function calc_temps, start date and end date in the format %Y-%m-%d \n",
    "#and return the minimum, average, and maximum temperatures for that range of dates.\n",
    "import datetime\n",
    "def calc_temps(date1,date2):\n",
    "\n",
    "    start = datetime.datetime.strptime(date1, '%Y-%m-%d')\n",
    "    end = datetime.datetime.strptime(date2, '%Y-%m-%d')\n",
    "\n",
    "    temps_stats = session.query(func.avg(Measurement.tobs),func.min(Measurement.tobs),func.max(Measurement.tobs)).\\\n",
    "            filter(Measurement.date > start).\\\n",
    "            filter(Measurement.date < end).all()\n",
    "    return(temps_stats)"
   ]
  },
  {
   "cell_type": "code",
   "execution_count": 84,
   "metadata": {},
   "outputs": [
    {
     "data": {
      "text/plain": [
       "<function __main__.calc_temps(date1, date2)>"
      ]
     },
     "execution_count": 84,
     "metadata": {},
     "output_type": "execute_result"
    }
   ],
   "source": [
    "calc_temps"
   ]
  },
  {
   "cell_type": "code",
   "execution_count": null,
   "metadata": {},
   "outputs": [],
   "source": []
  }
 ],
 "metadata": {
  "kernel_info": {
   "name": "python3"
  },
  "kernelspec": {
   "display_name": "Python 3",
   "language": "python",
   "name": "python3"
  },
  "language_info": {
   "codemirror_mode": {
    "name": "ipython",
    "version": 3
   },
   "file_extension": ".py",
   "mimetype": "text/x-python",
   "name": "python",
   "nbconvert_exporter": "python",
   "pygments_lexer": "ipython3",
   "version": "3.6.8"
  },
  "nteract": {
   "version": "0.9.1"
  },
  "varInspector": {
   "cols": {
    "lenName": 16,
    "lenType": 16,
    "lenVar": 40
   },
   "kernels_config": {
    "python": {
     "delete_cmd_postfix": "",
     "delete_cmd_prefix": "del ",
     "library": "var_list.py",
     "varRefreshCmd": "print(var_dic_list())"
    },
    "r": {
     "delete_cmd_postfix": ") ",
     "delete_cmd_prefix": "rm(",
     "library": "var_list.r",
     "varRefreshCmd": "cat(var_dic_list()) "
    }
   },
   "types_to_exclude": [
    "module",
    "function",
    "builtin_function_or_method",
    "instance",
    "_Feature"
   ],
   "window_display": false
  }
 },
 "nbformat": 4,
 "nbformat_minor": 2
}
